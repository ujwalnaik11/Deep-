{
  "nbformat": 4,
  "nbformat_minor": 0,
  "metadata": {
    "colab": {
      "name": "Collaberative filtering.ipynb",
      "provenance": [],
      "authorship_tag": "ABX9TyOazQc4ZbEUyUxkZfdiSArm",
      "include_colab_link": true
    },
    "kernelspec": {
      "name": "python3",
      "display_name": "Python 3"
    },
    "language_info": {
      "name": "python"
    }
  },
  "cells": [
    {
      "cell_type": "markdown",
      "metadata": {
        "id": "view-in-github",
        "colab_type": "text"
      },
      "source": [
        "<a href=\"https://colab.research.google.com/github/ujwalnaik11/Deep-Learning/blob/master/Collaberative_filtering.ipynb\" target=\"_parent\"><img src=\"https://colab.research.google.com/assets/colab-badge.svg\" alt=\"Open In Colab\"/></a>"
      ]
    },
    {
      "cell_type": "markdown",
      "metadata": {
        "id": "t2WptKgVfoST"
      },
      "source": [
        "Collaborative filtering is perhaps the most common technique used by recommender systems other than content based Systems.It capitalises on the connection between users and items instead of actual content, thus making it human centric.\n",
        "\n",
        "Collaborative filtering is a method of making predictions about the interests of a user by collecting preferences from many users. The underlying assumption is that if a person A has the same opinion as a person B on an issue, A is more likely to have B's opinion on a different issue than that of a randomly chosen person. - Wikipedia\n",
        "\n",
        "The librec Java library provides over 70 different algorithms for collaborative filtering.Here however, we'll implement a relatively new technique called neural collaborative filtering."
      ]
    },
    {
      "cell_type": "markdown",
      "metadata": {
        "id": "NB_2pGUWf3-J"
      },
      "source": [
        "**The MovieLens 100K dataset** \n",
        "\n",
        "https://grouplens.org/datasets/movielens/\n",
        "\n",
        "The MovieLens 100K dataset is a collection of movie ratings by 943 users on 1682 movies. There are 100,000 ratings in total, since not every user has seen and rated every movie"
      ]
    },
    {
      "cell_type": "code",
      "metadata": {
        "colab": {
          "base_uri": "https://localhost:8080/"
        },
        "id": "pRrBmCEifsPB",
        "outputId": "c6a0c56f-e5e4-46dd-d822-71c3564ce227"
      },
      "source": [
        "!pip install fastai==1.0.50 --quiet"
      ],
      "execution_count": 1,
      "outputs": [
        {
          "output_type": "stream",
          "text": [
            "\u001b[?25l\r\u001b[K     |█▋                              | 10 kB 26.6 MB/s eta 0:00:01\r\u001b[K     |███▏                            | 20 kB 32.8 MB/s eta 0:00:01\r\u001b[K     |████▊                           | 30 kB 30.8 MB/s eta 0:00:01\r\u001b[K     |██████▎                         | 40 kB 23.5 MB/s eta 0:00:01\r\u001b[K     |███████▉                        | 51 kB 19.9 MB/s eta 0:00:01\r\u001b[K     |█████████▍                      | 61 kB 14.6 MB/s eta 0:00:01\r\u001b[K     |███████████                     | 71 kB 15.0 MB/s eta 0:00:01\r\u001b[K     |████████████▌                   | 81 kB 15.9 MB/s eta 0:00:01\r\u001b[K     |██████████████                  | 92 kB 16.1 MB/s eta 0:00:01\r\u001b[K     |███████████████▋                | 102 kB 12.7 MB/s eta 0:00:01\r\u001b[K     |█████████████████▏              | 112 kB 12.7 MB/s eta 0:00:01\r\u001b[K     |██████████████████▊             | 122 kB 12.7 MB/s eta 0:00:01\r\u001b[K     |████████████████████▎           | 133 kB 12.7 MB/s eta 0:00:01\r\u001b[K     |█████████████████████▉          | 143 kB 12.7 MB/s eta 0:00:01\r\u001b[K     |███████████████████████▍        | 153 kB 12.7 MB/s eta 0:00:01\r\u001b[K     |█████████████████████████       | 163 kB 12.7 MB/s eta 0:00:01\r\u001b[K     |██████████████████████████▌     | 174 kB 12.7 MB/s eta 0:00:01\r\u001b[K     |████████████████████████████    | 184 kB 12.7 MB/s eta 0:00:01\r\u001b[K     |█████████████████████████████▋  | 194 kB 12.7 MB/s eta 0:00:01\r\u001b[K     |███████████████████████████████▏| 204 kB 12.7 MB/s eta 0:00:01\r\u001b[K     |████████████████████████████████| 210 kB 12.7 MB/s \n",
            "\u001b[?25h\u001b[?25l\r\u001b[K     |████▏                           | 10 kB 30.1 MB/s eta 0:00:01\r\u001b[K     |████████▍                       | 20 kB 37.8 MB/s eta 0:00:01\r\u001b[K     |████████████▌                   | 30 kB 46.7 MB/s eta 0:00:01\r\u001b[K     |████████████████▊               | 40 kB 47.9 MB/s eta 0:00:01\r\u001b[K     |████████████████████▉           | 51 kB 19.8 MB/s eta 0:00:01\r\u001b[K     |█████████████████████████       | 61 kB 22.4 MB/s eta 0:00:01\r\u001b[K     |█████████████████████████████▏  | 71 kB 24.9 MB/s eta 0:00:01\r\u001b[K     |████████████████████████████████| 78 kB 6.2 MB/s \n",
            "\u001b[?25h  Building wheel for typing (setup.py) ... \u001b[?25l\u001b[?25hdone\n"
          ],
          "name": "stdout"
        }
      ]
    },
    {
      "cell_type": "code",
      "metadata": {
        "id": "ExTYPyu5fyRl"
      },
      "source": [
        "import pandas as pd\n",
        "from fastai.collab import CollabDataBunch, collab_learner"
      ],
      "execution_count": 2,
      "outputs": []
    },
    {
      "cell_type": "code",
      "metadata": {
        "colab": {
          "base_uri": "https://localhost:8080/",
          "height": 204
        },
        "id": "t-LCRQobgMZo",
        "outputId": "2ea174aa-9f78-46da-b175-b0d612cb1521"
      },
      "source": [
        "cols = ['User ID','Movie ID','Rating','Timestamp']\n",
        "ratings_df = pd.read_csv('u.data', delimiter='\\t', \n",
        "                         header=None, names=cols)\n",
        "ratings_df.sample(5)"
      ],
      "execution_count": 3,
      "outputs": [
        {
          "output_type": "execute_result",
          "data": {
            "text/html": [
              "<div>\n",
              "<style scoped>\n",
              "    .dataframe tbody tr th:only-of-type {\n",
              "        vertical-align: middle;\n",
              "    }\n",
              "\n",
              "    .dataframe tbody tr th {\n",
              "        vertical-align: top;\n",
              "    }\n",
              "\n",
              "    .dataframe thead th {\n",
              "        text-align: right;\n",
              "    }\n",
              "</style>\n",
              "<table border=\"1\" class=\"dataframe\">\n",
              "  <thead>\n",
              "    <tr style=\"text-align: right;\">\n",
              "      <th></th>\n",
              "      <th>User ID</th>\n",
              "      <th>Movie ID</th>\n",
              "      <th>Rating</th>\n",
              "      <th>Timestamp</th>\n",
              "    </tr>\n",
              "  </thead>\n",
              "  <tbody>\n",
              "    <tr>\n",
              "      <th>52979</th>\n",
              "      <td>668</td>\n",
              "      <td>311</td>\n",
              "      <td>4</td>\n",
              "      <td>881591023</td>\n",
              "    </tr>\n",
              "    <tr>\n",
              "      <th>82092</th>\n",
              "      <td>337</td>\n",
              "      <td>67</td>\n",
              "      <td>4</td>\n",
              "      <td>875236631</td>\n",
              "    </tr>\n",
              "    <tr>\n",
              "      <th>20229</th>\n",
              "      <td>130</td>\n",
              "      <td>343</td>\n",
              "      <td>4</td>\n",
              "      <td>881536273</td>\n",
              "    </tr>\n",
              "    <tr>\n",
              "      <th>48588</th>\n",
              "      <td>59</td>\n",
              "      <td>900</td>\n",
              "      <td>4</td>\n",
              "      <td>888202814</td>\n",
              "    </tr>\n",
              "    <tr>\n",
              "      <th>38944</th>\n",
              "      <td>6</td>\n",
              "      <td>194</td>\n",
              "      <td>4</td>\n",
              "      <td>883601365</td>\n",
              "    </tr>\n",
              "  </tbody>\n",
              "</table>\n",
              "</div>"
            ],
            "text/plain": [
              "       User ID  Movie ID  Rating  Timestamp\n",
              "52979      668       311       4  881591023\n",
              "82092      337        67       4  875236631\n",
              "20229      130       343       4  881536273\n",
              "48588       59       900       4  888202814\n",
              "38944        6       194       4  883601365"
            ]
          },
          "metadata": {
            "tags": []
          },
          "execution_count": 3
        }
      ]
    },
    {
      "cell_type": "code",
      "metadata": {
        "colab": {
          "base_uri": "https://localhost:8080/",
          "height": 204
        },
        "id": "W9XvixIsgvuv",
        "outputId": "c39fcbba-8b88-417c-b3c1-d2d1520c4006"
      },
      "source": [
        "data = CollabDataBunch.from_df(ratings_df, valid_pct=0.1)\n",
        "data.show_batch()"
      ],
      "execution_count": 5,
      "outputs": [
        {
          "output_type": "display_data",
          "data": {
            "text/html": [
              "<table border=\"1\" class=\"dataframe\">\n",
              "  <thead>\n",
              "    <tr style=\"text-align: right;\">\n",
              "      <th>User ID</th>\n",
              "      <th>Movie ID</th>\n",
              "      <th>target</th>\n",
              "    </tr>\n",
              "  </thead>\n",
              "  <tbody>\n",
              "    <tr>\n",
              "      <td>828</td>\n",
              "      <td>900</td>\n",
              "      <td>2.0</td>\n",
              "    </tr>\n",
              "    <tr>\n",
              "      <td>15</td>\n",
              "      <td>301</td>\n",
              "      <td>4.0</td>\n",
              "    </tr>\n",
              "    <tr>\n",
              "      <td>682</td>\n",
              "      <td>215</td>\n",
              "      <td>4.0</td>\n",
              "    </tr>\n",
              "    <tr>\n",
              "      <td>222</td>\n",
              "      <td>232</td>\n",
              "      <td>4.0</td>\n",
              "    </tr>\n",
              "    <tr>\n",
              "      <td>927</td>\n",
              "      <td>278</td>\n",
              "      <td>1.0</td>\n",
              "    </tr>\n",
              "  </tbody>\n",
              "</table>"
            ],
            "text/plain": [
              "<IPython.core.display.HTML object>"
            ]
          },
          "metadata": {
            "tags": []
          }
        }
      ]
    },
    {
      "cell_type": "markdown",
      "metadata": {
        "id": "E3tUhi4chOpE"
      },
      "source": [
        "**Collaborative filtering model**\n",
        "\n",
        "The model itself is quite simple. We represent each user **u** and each movie **m** by vector of a predefined length n. The rating for the movie m by the user u, as predicted by the model is simply the dot product of the two vectors.\n",
        "\n",
        "Since the vectors are chosen randomly, it's quite unlikely that the ratings predicted by the model match the actual ratings. Our objective, while training the model, is to gradually adjust the elements inside the user & movie vectors so that predicted ratings get closer to the actual ratings."
      ]
    },
    {
      "cell_type": "code",
      "metadata": {
        "id": "78LQzML8hs7D"
      },
      "source": [
        "learn = collab_learner(data, n_factors=40, y_range=[0,5.5], wd=.1)"
      ],
      "execution_count": 6,
      "outputs": []
    },
    {
      "cell_type": "markdown",
      "metadata": {
        "id": "Q_tJsSy7hqwX"
      },
      "source": [
        "We can use the **collab_learner** method from fastai to create a neural collaborative filtering model. The actual model created here contains 2 important enhancements on the simpler version described earlier:\n",
        "\n",
        "1.  apart from the vectors for users and movies, it also add bias terms to account for outliers, since some users tend to always rate movies very high or very low, and some movies tend to be universally acclaimed or disliked.\n",
        "\n",
        "2. Second, it applies the Sigmoid activation function to the above output, and scales it so that the result always lies in the given y_range, which is 0 to 5.5 in this case."
      ]
    },
    {
      "cell_type": "code",
      "metadata": {
        "colab": {
          "base_uri": "https://localhost:8080/",
          "height": 374
        },
        "id": "q6n9h0bkgzEz",
        "outputId": "9b88e12a-3ff4-4a8d-abeb-d2d8e0e930b4"
      },
      "source": [
        "learn.lr_find()\n",
        "learn.recorder.plot(skip_end=15)"
      ],
      "execution_count": 7,
      "outputs": [
        {
          "output_type": "display_data",
          "data": {
            "text/html": [
              "\n",
              "    <div>\n",
              "        <style>\n",
              "            /* Turns off some styling */\n",
              "            progress {\n",
              "                /* gets rid of default border in Firefox and Opera. */\n",
              "                border: none;\n",
              "                /* Needs to be in here for Safari polyfill so background images work as expected. */\n",
              "                background-size: auto;\n",
              "            }\n",
              "            .progress-bar-interrupted, .progress-bar-interrupted::-webkit-progress-bar {\n",
              "                background: #F44336;\n",
              "            }\n",
              "        </style>\n",
              "      <progress value='0' class='' max='1' style='width:300px; height:20px; vertical-align: middle;'></progress>\n",
              "      0.00% [0/1 00:00<00:00]\n",
              "    </div>\n",
              "    \n",
              "<table border=\"1\" class=\"dataframe\">\n",
              "  <thead>\n",
              "    <tr style=\"text-align: left;\">\n",
              "      <th>epoch</th>\n",
              "      <th>train_loss</th>\n",
              "      <th>valid_loss</th>\n",
              "      <th>time</th>\n",
              "    </tr>\n",
              "  </thead>\n",
              "  <tbody>\n",
              "  </tbody>\n",
              "</table><p>\n",
              "\n",
              "    <div>\n",
              "        <style>\n",
              "            /* Turns off some styling */\n",
              "            progress {\n",
              "                /* gets rid of default border in Firefox and Opera. */\n",
              "                border: none;\n",
              "                /* Needs to be in here for Safari polyfill so background images work as expected. */\n",
              "                background-size: auto;\n",
              "            }\n",
              "            .progress-bar-interrupted, .progress-bar-interrupted::-webkit-progress-bar {\n",
              "                background: #F44336;\n",
              "            }\n",
              "        </style>\n",
              "      <progress value='86' class='' max='1406' style='width:300px; height:20px; vertical-align: middle;'></progress>\n",
              "      6.12% [86/1406 00:00<00:13 1.8606]\n",
              "    </div>\n",
              "    "
            ],
            "text/plain": [
              "<IPython.core.display.HTML object>"
            ]
          },
          "metadata": {
            "tags": []
          }
        },
        {
          "output_type": "stream",
          "text": [
            "LR Finder is complete, type {learner_name}.recorder.plot() to see the graph.\n"
          ],
          "name": "stdout"
        },
        {
          "output_type": "display_data",
          "data": {
            "image/png": "[encoded data removed]",
            "text/plain": [
              "<Figure size 432x288 with 1 Axes>"
            ]
          },
          "metadata": {
            "tags": [],
            "needs_background": "light"
          }
        }
      ]
    },
    {
      "cell_type": "markdown",
      "metadata": {
        "id": "tVyeMkhgjC3f"
      },
      "source": [
        "The learner uses the mean squared error loss function to evaluate the predictions of the model, and the Adam optimizer to adjust the parameters (vectors and biases) using gradient descent. Before we train the model, we use the learning rate finder to select a good learning for the optimizer."
      ]
    },
    {
      "cell_type": "markdown",
      "metadata": {
        "id": "TwUacAaUjrDK"
      },
      "source": [
        "Upon inspection of the graph, we can see that the decrease in loss starts to decrease when the learning rate is around 0.01. We can choose this as our learning rate, and train for 5 epochs, while annealing the learning rate using the 1-cycle policy, which leads to faster convergence."
      ]
    },
    {
      "cell_type": "code",
      "metadata": {
        "colab": {
          "base_uri": "https://localhost:8080/",
          "height": 204
        },
        "id": "z8UR7_rwizXb",
        "outputId": "9779f8ec-827f-456c-ac03-7f50a3f9530a"
      },
      "source": [
        "learn.fit_one_cycle(5, 0.01)"
      ],
      "execution_count": 8,
      "outputs": [
        {
          "output_type": "display_data",
          "data": {
            "text/html": [
              "<table border=\"1\" class=\"dataframe\">\n",
              "  <thead>\n",
              "    <tr style=\"text-align: left;\">\n",
              "      <th>epoch</th>\n",
              "      <th>train_loss</th>\n",
              "      <th>valid_loss</th>\n",
              "      <th>time</th>\n",
              "    </tr>\n",
              "  </thead>\n",
              "  <tbody>\n",
              "    <tr>\n",
              "      <td>0</td>\n",
              "      <td>0.956499</td>\n",
              "      <td>0.934928</td>\n",
              "      <td>00:10</td>\n",
              "    </tr>\n",
              "    <tr>\n",
              "      <td>1</td>\n",
              "      <td>0.875271</td>\n",
              "      <td>0.912515</td>\n",
              "      <td>00:10</td>\n",
              "    </tr>\n",
              "    <tr>\n",
              "      <td>2</td>\n",
              "      <td>0.788775</td>\n",
              "      <td>0.854549</td>\n",
              "      <td>00:10</td>\n",
              "    </tr>\n",
              "    <tr>\n",
              "      <td>3</td>\n",
              "      <td>0.660153</td>\n",
              "      <td>0.824803</td>\n",
              "      <td>00:10</td>\n",
              "    </tr>\n",
              "    <tr>\n",
              "      <td>4</td>\n",
              "      <td>0.488221</td>\n",
              "      <td>0.826941</td>\n",
              "      <td>00:10</td>\n",
              "    </tr>\n",
              "  </tbody>\n",
              "</table>"
            ],
            "text/plain": [
              "<IPython.core.display.HTML object>"
            ]
          },
          "metadata": {
            "tags": []
          }
        }
      ]
    },
    {
      "cell_type": "markdown",
      "metadata": {
        "id": "Qf3EIrPzlOmm"
      },
      "source": [
        "**Predictions**"
      ]
    },
    {
      "cell_type": "code",
      "metadata": {
        "colab": {
          "base_uri": "https://localhost:8080/"
        },
        "id": "vMtW21EhkJGw",
        "outputId": "b4dc8f04-2aac-41ca-cb0f-8321949c9c3d"
      },
      "source": [
        "(users, items), ratings = next(iter(data.valid_dl))\n",
        "preds = learn.model(users, items)\n",
        "print('User\\tMovie\\tReal\\tPred\\tDifference')\n",
        "for p in list(zip(users,items,ratings, preds))[:16]:\n",
        "    print('{}\\t{}\\t{}\\t{:.1f}\\t{:.1f}'.format(p[0],p[1],p[2],p[3],p[3]-p[2]))"
      ],
      "execution_count": 9,
      "outputs": [
        {
          "output_type": "stream",
          "text": [
            "User\tMovie\tReal\tPred\tDifference\n",
            "148\t189\t4.0\t4.4\t0.4\n",
            "833\t830\t1.0\t2.5\t1.5\n",
            "758\t61\t3.0\t4.2\t1.2\n",
            "100\t1232\t3.0\t3.1\t0.1\n",
            "618\t144\t4.0\t4.1\t0.1\n",
            "10\t463\t4.0\t4.1\t0.1\n",
            "634\t1141\t3.0\t3.4\t0.4\n",
            "210\t750\t4.0\t3.6\t-0.4\n",
            "886\t196\t3.0\t3.6\t0.6\n",
            "502\t264\t3.0\t2.6\t-0.4\n",
            "450\t79\t4.0\t4.3\t0.3\n",
            "392\t8\t5.0\t4.1\t-0.9\n",
            "344\t118\t3.0\t2.4\t-0.6\n",
            "532\t878\t3.0\t3.9\t0.9\n",
            "206\t260\t3.0\t2.2\t-0.8\n",
            "59\t175\t4.0\t4.5\t0.5\n"
          ],
          "name": "stdout"
        }
      ]
    },
    {
      "cell_type": "markdown",
      "metadata": {
        "id": "0rVJmAdloEE9"
      },
      "source": [
        "**Recommendations**"
      ]
    },
    {
      "cell_type": "code",
      "metadata": {
        "colab": {
          "base_uri": "https://localhost:8080/"
        },
        "id": "J1qc64dpmw57",
        "outputId": "9617d856-aa50-416b-8425-7c866452e5d9"
      },
      "source": [
        "import torch\n",
        "users = torch.tensor([1,1,1,1,1,1,1,1,1,1,1,1,1,1,1,1])\n",
        "items = torch.tensor([1,2,3,4,5,6,7,8,9,10,11,12,13,14,15,16])\n",
        "\n",
        "preds = learn.model(users, items)\n",
        "print('User\\tMovie\\tReal\\tPred\\tDifference')\n",
        "for p in list(zip(users,items,ratings, preds))[:16]:\n",
        "    print('{}\\t{}\\t{}\\t{:.1f}\\t{:.1f}'.format(p[0],p[1],p[2],p[3],p[3]-p[2]))\n"
      ],
      "execution_count": 11,
      "outputs": [
        {
          "output_type": "stream",
          "text": [
            "User\tMovie\tReal\tPred\tDifference\n",
            "1\t1\t4.0\t4.2\t0.2\n",
            "1\t2\t1.0\t2.8\t1.8\n",
            "1\t3\t3.0\t3.0\t0.0\n",
            "1\t4\t3.0\t4.0\t1.0\n",
            "1\t5\t4.0\t2.4\t-1.6\n",
            "1\t6\t4.0\t4.1\t0.1\n",
            "1\t7\t3.0\t4.2\t1.2\n",
            "1\t8\t4.0\t3.9\t-0.1\n",
            "1\t9\t3.0\t4.3\t1.3\n",
            "1\t10\t3.0\t3.7\t0.7\n",
            "1\t11\t4.0\t3.7\t-0.3\n",
            "1\t12\t5.0\t4.9\t-0.1\n",
            "1\t13\t3.0\t4.1\t1.1\n",
            "1\t14\t3.0\t4.2\t1.2\n",
            "1\t15\t3.0\t3.7\t0.7\n",
            "1\t16\t4.0\t4.2\t0.2\n"
          ],
          "name": "stdout"
        }
      ]
    },
    {
      "cell_type": "markdown",
      "metadata": {
        "id": "NjYoyou8pNPu"
      },
      "source": [
        "Movies that have a high predicted rating is recommended to the user"
      ]
    },
    {
      "cell_type": "code",
      "metadata": {
        "id": "pGN0g88so0Hr"
      },
      "source": [
        ""
      ],
      "execution_count": null,
      "outputs": []
    }
  ]
}